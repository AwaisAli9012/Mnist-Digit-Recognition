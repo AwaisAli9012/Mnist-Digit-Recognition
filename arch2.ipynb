{
 "cells": [
  {
   "cell_type": "code",
   "execution_count": 132,
   "metadata": {},
   "outputs": [],
   "source": [
    "import numpy as np\n",
    "import matplotlib.pyplot as plt\n",
    "import torch\n",
    "import torch.nn as nn\n",
    "import torch.optim as optim\n",
    "from torchvision import datasets,transforms\n",
    "from torch.utils.data import DataLoader"
   ]
  },
  {
   "cell_type": "code",
   "execution_count": 133,
   "metadata": {},
   "outputs": [],
   "source": [
    "transform=transforms.Compose([transforms.ToTensor(),transforms.Normalize((0.1307,),(0.3081,))])\n",
    "train_data=datasets.MNIST(root=\"data\",train=True,download=True,transform=transform)\n",
    "test_data=datasets.MNIST(root=\"data\",train=False,download=True,transform=transform)\n",
    "train_loader=DataLoader(train_data,batch_size=64,shuffle=True)\n",
    "test_loader=DataLoader(test_data,batch_size=64,shuffle=False)"
   ]
  },
  {
   "cell_type": "code",
   "execution_count": 144,
   "metadata": {},
   "outputs": [
    {
     "data": {
      "image/png": "[encoded data removed]",
      "text/plain": [
       "<Figure size 640x480 with 1 Axes>"
      ]
     },
     "metadata": {},
     "output_type": "display_data"
    }
   ],
   "source": [
    "def imshow(img,labels):\n",
    "    img=img*0.3081+0.1307\n",
    "    plt.imshow(np.transpose(img[0],(1,2,0)),cmap=\"gray\")\n",
    "    plt.title(f\"label:{labels[0].item()}\")\n",
    "    plt.show()\n",
    "\n",
    "data=next(iter(train_loader))\n",
    "imshow(data[0],data[1])\n",
    "\n"
   ]
  },
  {
   "cell_type": "code",
   "execution_count": 145,
   "metadata": {},
   "outputs": [
    {
     "name": "stdout",
     "output_type": "stream",
     "text": [
      "Using device:cpu\n"
     ]
    }
   ],
   "source": [
    "device=torch.device(\"cuda\" if torch.cuda.is_available()else \"cpu\")\n",
    "print(f\"Using device:{device}\")"
   ]
  },
  {
   "cell_type": "code",
   "execution_count": 146,
   "metadata": {},
   "outputs": [],
   "source": [
    "class CNN(nn.Module):\n",
    "    def __init__(self):\n",
    "        super(CNN, self).__init__()\n",
    "        self.conv_layers = nn.Sequential(\n",
    "            nn.Conv2d(1, 32, kernel_size=3, stride=1, padding=1),\n",
    "            nn.ReLU(),\n",
    "            nn.MaxPool2d(2, 2),  # Output: 14x14\n",
    "\n",
    "            nn.Conv2d(32, 64, kernel_size=3, stride=1, padding=1),\n",
    "            nn.ReLU(),\n",
    "            nn.MaxPool2d(2, 2),  # Output: 7x7\n",
    "\n",
    "            nn.Conv2d(64, 64, kernel_size=3, stride=1, padding=1),\n",
    "            nn.ReLU(),\n",
    "        )\n",
    "        self.classifier = nn.Sequential(\n",
    "            nn.Flatten(),\n",
    "            nn.Linear(64 * 7 * 7, 64),\n",
    "            nn.ReLU(),\n",
    "            nn.Dropout(0.5),\n",
    "            nn.Linear(64, 10)  # Output for 10 digit classes\n",
    "        )\n",
    "\n",
    "    def forward(self, x):\n",
    "        x = self.conv_layers(x)\n",
    "        x = self.classifier(x)\n",
    "        return x \n",
    "\n",
    "\n",
    "model = CNN()"
   ]
  },
  {
   "cell_type": "code",
   "execution_count": 147,
   "metadata": {},
   "outputs": [],
   "source": [
    "model=model.to(device)\n",
    "criterion = nn.CrossEntropyLoss()\n",
    "optimizer = optim.Adam(model.parameters(), lr=0.001)"
   ]
  },
  {
   "cell_type": "code",
   "execution_count": 152,
   "metadata": {},
   "outputs": [],
   "source": [
    "def train(model,train_loader,criterion,device):\n",
    "   model.train()\n",
    "   running_loss=0.0\n",
    "   correct=0\n",
    "   total=0\n",
    "    \n",
    "   for images,labels in train_loader:\n",
    "      images,labels=images.to(device),labels.to(device)\n",
    "      output=model(images)\n",
    "      loss=criterion(output,labels)\n",
    "      optimizer.zero_grad()\n",
    "      loss.backward()\n",
    "      optimizer.step() \n",
    "      \n",
    "      running_loss += loss.item()\n",
    "      _, predicted = output.max(1)\n",
    "      total += labels.size(0)         # Batch size\n",
    "      correct += predicted.eq(labels).sum().item()  # Count correct predictions\n",
    "\n",
    "   accuracy = 100. * correct / total\n",
    "   avg_loss = running_loss / len(train_loader)\n",
    "   print(f\"Train Loss: {avg_loss:.3f}, Accuracy: {accuracy:.2f}%\")\n",
    "      \n"
   ]
  },
  {
   "cell_type": "code",
   "execution_count": 153,
   "metadata": {},
   "outputs": [],
   "source": [
    "def evaluate(model, test_loader, criterion, device):\n",
    "    model.eval()\n",
    "    test_loss = 0.0\n",
    "    correct = 0\n",
    "    total = 0\n",
    "\n",
    "    with torch.no_grad():\n",
    "        for images, labels in test_loader:\n",
    "            images, labels = images.to(device), labels.to(device)\n",
    "            outputs = model(images)\n",
    "            loss = criterion(outputs, labels)\n",
    "\n",
    "            test_loss += loss.item()\n",
    "            _, predicted = outputs.max(1)\n",
    "            total += labels.size(0)\n",
    "            correct += predicted.eq(labels).sum().item()\n",
    "\n",
    "    accuracy = 100. * correct / total\n",
    "    avg_loss = test_loss / len(test_loader)\n",
    "    print(f\"Test Loss: {avg_loss:.3f}, Test Accuracy: {accuracy:.2f}%\")\n",
    "    return accuracy"
   ]
  },
  {
   "cell_type": "code",
   "execution_count": 150,
   "metadata": {},
   "outputs": [
    {
     "name": "stdout",
     "output_type": "stream",
     "text": [
      "\\Epoch [1/5]\n",
      "Train Loss: 0.293, Accuracy: 90.81%\n",
      "Test Loss: 0.042, Test Accuracy: 98.62%\n",
      "\\Epoch [2/5]\n",
      "Train Loss: 0.121, Accuracy: 96.42%\n",
      "Test Loss: 0.031, Test Accuracy: 98.93%\n",
      "\\Epoch [3/5]\n",
      "Train Loss: 0.086, Accuracy: 97.33%\n",
      "Test Loss: 0.042, Test Accuracy: 98.51%\n",
      "\\Epoch [4/5]\n",
      "Train Loss: 0.068, Accuracy: 97.90%\n",
      "Test Loss: 0.033, Test Accuracy: 99.04%\n",
      "\\Epoch [5/5]\n",
      "Train Loss: 0.057, Accuracy: 98.26%\n",
      "Test Loss: 0.029, Test Accuracy: 99.17%\n"
     ]
    }
   ],
   "source": [
    "num_epoch=5\n",
    "for epoch in range(num_epoch):\n",
    "    print(f\"\\Epoch [{epoch+1}/{num_epoch}]\")\n",
    "    train(model,train_loader,criterion,device)\n",
    "    evaluate(model,test_loader,criterion,device)\n",
    "    "
   ]
  },
  {
   "cell_type": "code",
   "execution_count": 154,
   "metadata": {},
   "outputs": [
    {
     "data": {
      "image/png": "[encoded data removed]",
      "text/plain": [
       "<Figure size 1200x400 with 6 Axes>"
      ]
     },
     "metadata": {},
     "output_type": "display_data"
    }
   ],
   "source": [
    "def show_predictions(model, test_loader, device, num_images=6):\n",
    "    model.eval()\n",
    "    data_iter = iter(test_loader)\n",
    "    images, labels = next(data_iter)\n",
    "    images, labels = images.to(device), labels.to(device)\n",
    "\n",
    "    with torch.no_grad():\n",
    "        outputs = model(images)\n",
    "        _, predicted = torch.max(outputs, 1)\n",
    "\n",
    "    fig, axes = plt.subplots(1, num_images, figsize=(12, 4))\n",
    "    for i in range(num_images):\n",
    "        img = images[i].cpu().numpy().squeeze()\n",
    "        img = img * 0.3081 + 0.1307  # Un-normalize\n",
    "        axes[i].imshow(img, cmap='gray')\n",
    "        axes[i].set_title(f'True: {labels[i].item()}, Pred: {predicted[i].item()}')\n",
    "        axes[i].axis('off')\n",
    "    plt.show()\n",
    "\n",
    "show_predictions(model, test_loader, device)"
   ]
  }
 ],
 "metadata": {
  "kernelspec": {
   "display_name": "base",
   "language": "python",
   "name": "python3"
  },
  "language_info": {
   "codemirror_mode": {
    "name": "ipython",
    "version": 3
   },
   "file_extension": ".py",
   "mimetype": "text/x-python",
   "name": "python",
   "nbconvert_exporter": "python",
   "pygments_lexer": "ipython3",
   "version": "3.11.7"
  }
 },
 "nbformat": 4,
 "nbformat_minor": 2
}
